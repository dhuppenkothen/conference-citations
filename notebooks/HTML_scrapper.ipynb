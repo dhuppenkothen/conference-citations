{
 "cells": [
  {
   "cell_type": "code",
   "execution_count": 62,
   "metadata": {},
   "outputs": [],
   "source": [
    "from bs4 import BeautifulSoup\n",
    "\n",
    "soup = BeautifulSoup(open(\"~/data/html/output-html.html\"),'html.parser')\n",
    "#print(soup)"
   ]
  },
  {
   "cell_type": "code",
   "execution_count": 61,
   "metadata": {},
   "outputs": [
    {
     "name": "stdout",
     "output_type": "stream",
     "text": [
      "<p class=\"ft32\" style=\"position:absolute;top:111px;left:88px;white-space:nowrap\">Probing thermonuclear flame spreading on neutron stars using burst rise oscillations<br/>Chakraborty, Manoneeta; Bhattacharyya, Sudip</p>\n",
      "<p class=\"ft32\" style=\"position:absolute;top:180px;left:88px;white-space:nowrap\">The ignition site of type-I X-ray bursts on the surface of neutron stars<br/>Zhang, Guo-Bao; Mendez, Mariano; Cumming, Andrew</p>\n",
      "<p class=\"ft32\" style=\"position:absolute;top:249px;left:88px;white-space:nowrap\">X-ray reprocessing in binaries<br/>Paul, Biswajit</p>\n",
      "<p class=\"ft32\" style=\"position:absolute;top:327px;left:85px;white-space:nowrap\">Quasi-periodic oscillations in neutron star low mass X-ray binaries<br/>Chair: Mendez, Mariano<br/>Date: Wed, Aug 03, 2016. Room: 3B16</p>\n",
      "<p class=\"ft32\" style=\"position:absolute;top:423px;left:85px;white-space:nowrap\">Correlation of QPO Frequencies with Derivatives Indicates Existence of a Non-Keplerean Disk<br/>Boundary Layer<br/>Alpar, Mehmet Ali</p>\n",
      "<p class=\"ft32\" style=\"position:absolute;top:510px;left:88px;white-space:nowrap\">The nodal precession around rotating compact stars: Importance of stellar oblateness and frame<br/>dragging<br/>Rosinska, Dorota Team: QPO</p>\n",
      "<p class=\"ft32\" style=\"position:absolute;top:597px;left:88px;white-space:nowrap\">Dependence of kHz quasi-periodic oscillation frequencies on accretion-related parameters<br/>Erkut, M. Hakan; Duran, Sivan; Çatmabacak, Önder; Catmabacak, Onur</p>\n",
      "<p class=\"ft32\" style=\"position:absolute;top:666px;left:88px;white-space:nowrap\">The pulse amplitude variation with QPO frequency in SAX J1808.4-3658: Resonances with the<br/>accretion disk<br/>Caliskan, Sirin; Sasmaz Mus, Sinem; Alpar, Mehmet Ali</p>\n",
      "<p class=\"ft32\" style=\"position:absolute;top:754px;left:88px;white-space:nowrap\">Millihertz quasi-periodic oscillations always associated with bursts with positive convexity in 4U<br/>1636-53<br/>Lyu, Ming; Mendez, Mariano; Altamirano, Diego; Zhang, Guo-Bao</p>\n",
      "<p class=\"ft32\" style=\"position:absolute;top:849px;left:85px;white-space:nowrap\">Spectral and timing properties of black hole and neutron star binaries<br/>Chair: Psaltis, Dimitrios<br/>Date: Wed, Aug 03, 2016. Room: 3B16</p>\n",
      "<p class=\"ft32\" style=\"position:absolute;top:946px;left:85px;white-space:nowrap\">Quasi-periodic oscillations in black-hole and neutron-star binaries<br/>Mendez, Mariano; Motta, Sara Elisa</p>\n",
      "<p class=\"ft32\" style=\"position:absolute;top:1015px;left:88px;white-space:nowrap\">Low-frequency quasi-periodic oscillations in black hole and neutron star LMXBs<br/>Ingram, Adam</p>\n",
      "<p class=\"ft32\" style=\"position:absolute;top:1084px;left:88px;white-space:nowrap\">Lense-Thirring precession around neutron stars with known spin<br/>Van Doesburgh, Marieke; Van Der Klis, Michiel</p>\n"
     ]
    }
   ],
   "source": [
    "data = soup.find_all('p',class_=\"ft32\")\n",
    "#print(data)\n",
    "for each in data:\n",
    "    s = str(each)\n",
    "    print(s)"
   ]
  },
  {
   "cell_type": "code",
   "execution_count": 35,
   "metadata": {},
   "outputs": [
    {
     "name": "stdout",
     "output_type": "stream",
     "text": [
      "['Probing\\xa0thermonuclear\\xa0flame\\xa0spreading\\xa0on\\xa0neutron\\xa0stars\\xa0using\\xa0burst\\xa0rise\\xa0oscillationsChakraborty,\\xa0Manoneeta;\\xa0Bhattacharyya,\\xa0Sudip', 'The\\xa0ignition\\xa0site\\xa0of\\xa0type-I\\xa0X-ray\\xa0bursts\\xa0on\\xa0the\\xa0surface\\xa0of\\xa0neutron\\xa0starsZhang,\\xa0Guo-Bao;\\xa0Mendez,\\xa0Mariano;\\xa0Cumming,\\xa0Andrew', 'X-ray\\xa0reprocessing\\xa0in\\xa0binariesPaul,\\xa0Biswajit', 'Quasi-periodic\\xa0oscillations\\xa0in\\xa0neutron\\xa0star\\xa0low\\xa0mass\\xa0X-ray\\xa0binariesChair:\\xa0Mendez,\\xa0MarianoDate:\\xa0Wed,\\xa0Aug\\xa003,\\xa02016.\\xa0Room:\\xa03B16', 'Correlation\\xa0of\\xa0QPO\\xa0Frequencies\\xa0with\\xa0Derivatives\\xa0Indicates\\xa0Existence\\xa0of\\xa0a\\xa0Non-Keplerean\\xa0DiskBoundary\\xa0LayerAlpar,\\xa0Mehmet\\xa0Ali', 'The\\xa0nodal\\xa0precession\\xa0around\\xa0rotating\\xa0compact\\xa0stars:\\xa0Importance\\xa0of\\xa0stellar\\xa0oblateness\\xa0and\\xa0framedraggingRosinska,\\xa0Dorota\\xa0Team:\\xa0QPO', 'Dependence\\xa0of\\xa0kHz\\xa0quasi-periodic\\xa0oscillation\\xa0frequencies\\xa0on\\xa0accretion-related\\xa0parametersErkut,\\xa0M.\\xa0Hakan;\\xa0Duran,\\xa0Sivan;\\xa0Çatmabacak,\\xa0Önder;\\xa0Catmabacak,\\xa0Onur', 'The\\xa0pulse\\xa0amplitude\\xa0variation\\xa0with\\xa0QPO\\xa0frequency\\xa0in\\xa0SAX\\xa0J1808.4-3658:\\xa0Resonances\\xa0with\\xa0theaccretion\\xa0diskCaliskan,\\xa0Sirin;\\xa0Sasmaz\\xa0Mus,\\xa0Sinem;\\xa0Alpar,\\xa0Mehmet\\xa0Ali', 'Millihertz\\xa0quasi-periodic\\xa0oscillations\\xa0always\\xa0associated\\xa0with\\xa0bursts\\xa0with\\xa0positive\\xa0convexity\\xa0in\\xa04U1636-53Lyu,\\xa0Ming;\\xa0Mendez,\\xa0Mariano;\\xa0Altamirano,\\xa0Diego;\\xa0Zhang,\\xa0Guo-Bao', 'Spectral\\xa0and\\xa0timing\\xa0properties\\xa0of\\xa0black\\xa0hole\\xa0and\\xa0neutron\\xa0star\\xa0binariesChair:\\xa0Psaltis,\\xa0DimitriosDate:\\xa0Wed,\\xa0Aug\\xa003,\\xa02016.\\xa0Room:\\xa03B16', 'Quasi-periodic\\xa0oscillations\\xa0in\\xa0black-hole\\xa0and\\xa0neutron-star\\xa0binariesMendez,\\xa0Mariano;\\xa0Motta,\\xa0Sara\\xa0Elisa', 'Low-frequency\\xa0quasi-periodic\\xa0oscillations\\xa0in\\xa0black\\xa0hole\\xa0and\\xa0neutron\\xa0star\\xa0LMXBsIngram,\\xa0Adam', 'Lense-Thirring\\xa0precession\\xa0around\\xa0neutron\\xa0stars\\xa0with\\xa0known\\xa0spinVan\\xa0Doesburgh,\\xa0Marieke;\\xa0Van\\xa0Der\\xa0Klis,\\xa0Michiel']\n"
     ]
    }
   ],
   "source": [
    "text = []\n",
    "for each in data:\n",
    "    text.append(each.get_text())\n",
    "print(text)"
   ]
  },
  {
   "cell_type": "code",
   "execution_count": 40,
   "metadata": {},
   "outputs": [
    {
     "name": "stdout",
     "output_type": "stream",
     "text": [
      "The ignition site of type-I X-ray bursts on the surface of neutron starsZhang, Guo-Bao; Mendez, Mariano; Cumming, Andrew\n"
     ]
    }
   ],
   "source": [
    "print(text[1])"
   ]
  },
  {
   "cell_type": "code",
   "execution_count": null,
   "metadata": {
    "collapsed": true
   },
   "outputs": [],
   "source": []
  }
 ],
 "metadata": {
  "kernelspec": {
   "display_name": "Python 3",
   "language": "python",
   "name": "python3"
  },
  "language_info": {
   "codemirror_mode": {
    "name": "ipython",
    "version": 3
   },
   "file_extension": ".py",
   "mimetype": "text/x-python",
   "name": "python",
   "nbconvert_exporter": "python",
   "pygments_lexer": "ipython3",
   "version": "3.5.2"
  }
 },
 "nbformat": 4,
 "nbformat_minor": 2
}
